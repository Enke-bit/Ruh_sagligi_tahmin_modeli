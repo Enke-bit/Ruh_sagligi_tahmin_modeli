{
 "cells": [
  {
   "cell_type": "markdown",
   "id": "e5983597",
   "metadata": {},
   "source": [
    "# Ruh sağlı tahmini yapan model"
   ]
  },
  {
   "cell_type": "code",
   "execution_count": 30,
   "id": "258c0961",
   "metadata": {},
   "outputs": [
    {
     "data": {
      "text/html": [
       "<img src=\"https://www.aljazeera.com/wp-content/uploads/2023/04/GettyImages-1003090056-1682491149.jpg?resize=655%2C513&quality=80\"/>"
      ],
      "text/plain": [
       "<IPython.core.display.Image object>"
      ]
     },
     "metadata": {},
     "output_type": "display_data"
    }
   ],
   "source": [
    "# \"https://www.kaggle.com/datasets/bhavikjikadara/mental-health-dataset\" yararlanıulmıştır."
   ]
  },
  {
   "cell_type": "code",
   "execution_count": 1,
   "id": "b405e158",
   "metadata": {
    "scrolled": true
   },
   "outputs": [
    {
     "name": "stdout",
     "output_type": "stream",
     "text": [
      "Requirement already satisfied: tensorflow in c:\\users\\realb\\anaconda3\\lib\\site-packages (2.15.0)\n",
      "Requirement already satisfied: tensorflow-intel==2.15.0 in c:\\users\\realb\\anaconda3\\lib\\site-packages (from tensorflow) (2.15.0)\n",
      "Requirement already satisfied: absl-py>=1.0.0 in c:\\users\\realb\\anaconda3\\lib\\site-packages (from tensorflow-intel==2.15.0->tensorflow) (2.0.0)\n",
      "Requirement already satisfied: astunparse>=1.6.0 in c:\\users\\realb\\anaconda3\\lib\\site-packages (from tensorflow-intel==2.15.0->tensorflow) (1.6.3)\n",
      "Requirement already satisfied: flatbuffers>=23.5.26 in c:\\users\\realb\\anaconda3\\lib\\site-packages (from tensorflow-intel==2.15.0->tensorflow) (23.5.26)\n",
      "Requirement already satisfied: gast!=0.5.0,!=0.5.1,!=0.5.2,>=0.2.1 in c:\\users\\realb\\anaconda3\\lib\\site-packages (from tensorflow-intel==2.15.0->tensorflow) (0.5.4)\n",
      "Requirement already satisfied: google-pasta>=0.1.1 in c:\\users\\realb\\anaconda3\\lib\\site-packages (from tensorflow-intel==2.15.0->tensorflow) (0.2.0)\n",
      "Requirement already satisfied: h5py>=2.9.0 in c:\\users\\realb\\anaconda3\\lib\\site-packages (from tensorflow-intel==2.15.0->tensorflow) (3.9.0)\n",
      "Requirement already satisfied: libclang>=13.0.0 in c:\\users\\realb\\anaconda3\\lib\\site-packages (from tensorflow-intel==2.15.0->tensorflow) (16.0.6)\n",
      "Requirement already satisfied: ml-dtypes~=0.2.0 in c:\\users\\realb\\anaconda3\\lib\\site-packages (from tensorflow-intel==2.15.0->tensorflow) (0.2.0)\n",
      "Requirement already satisfied: numpy<2.0.0,>=1.23.5 in c:\\users\\realb\\anaconda3\\lib\\site-packages (from tensorflow-intel==2.15.0->tensorflow) (1.24.3)\n",
      "Requirement already satisfied: opt-einsum>=2.3.2 in c:\\users\\realb\\anaconda3\\lib\\site-packages (from tensorflow-intel==2.15.0->tensorflow) (3.3.0)\n",
      "Requirement already satisfied: packaging in c:\\users\\realb\\anaconda3\\lib\\site-packages (from tensorflow-intel==2.15.0->tensorflow) (23.1)\n",
      "Requirement already satisfied: protobuf!=4.21.0,!=4.21.1,!=4.21.2,!=4.21.3,!=4.21.4,!=4.21.5,<5.0.0dev,>=3.20.3 in c:\\users\\realb\\anaconda3\\lib\\site-packages (from tensorflow-intel==2.15.0->tensorflow) (4.23.4)\n",
      "Requirement already satisfied: setuptools in c:\\users\\realb\\anaconda3\\lib\\site-packages (from tensorflow-intel==2.15.0->tensorflow) (68.0.0)\n",
      "Requirement already satisfied: six>=1.12.0 in c:\\users\\realb\\anaconda3\\lib\\site-packages (from tensorflow-intel==2.15.0->tensorflow) (1.16.0)\n",
      "Requirement already satisfied: termcolor>=1.1.0 in c:\\users\\realb\\anaconda3\\lib\\site-packages (from tensorflow-intel==2.15.0->tensorflow) (2.4.0)\n",
      "Requirement already satisfied: typing-extensions>=3.6.6 in c:\\users\\realb\\anaconda3\\lib\\site-packages (from tensorflow-intel==2.15.0->tensorflow) (4.9.0)\n",
      "Requirement already satisfied: wrapt<1.15,>=1.11.0 in c:\\users\\realb\\anaconda3\\lib\\site-packages (from tensorflow-intel==2.15.0->tensorflow) (1.14.1)\n",
      "Requirement already satisfied: tensorflow-io-gcs-filesystem>=0.23.1 in c:\\users\\realb\\anaconda3\\lib\\site-packages (from tensorflow-intel==2.15.0->tensorflow) (0.31.0)\n",
      "Requirement already satisfied: grpcio<2.0,>=1.24.3 in c:\\users\\realb\\anaconda3\\lib\\site-packages (from tensorflow-intel==2.15.0->tensorflow) (1.59.3)\n",
      "Requirement already satisfied: tensorboard<2.16,>=2.15 in c:\\users\\realb\\anaconda3\\lib\\site-packages (from tensorflow-intel==2.15.0->tensorflow) (2.15.1)\n",
      "Requirement already satisfied: tensorflow-estimator<2.16,>=2.15.0 in c:\\users\\realb\\anaconda3\\lib\\site-packages (from tensorflow-intel==2.15.0->tensorflow) (2.15.0)\n",
      "Requirement already satisfied: keras<2.16,>=2.15.0 in c:\\users\\realb\\anaconda3\\lib\\site-packages (from tensorflow-intel==2.15.0->tensorflow) (2.15.0)\n",
      "Requirement already satisfied: wheel<1.0,>=0.23.0 in c:\\users\\realb\\anaconda3\\lib\\site-packages (from astunparse>=1.6.0->tensorflow-intel==2.15.0->tensorflow) (0.38.4)\n",
      "Requirement already satisfied: google-auth<3,>=1.6.3 in c:\\users\\realb\\anaconda3\\lib\\site-packages (from tensorboard<2.16,>=2.15->tensorflow-intel==2.15.0->tensorflow) (2.24.0)\n",
      "Requirement already satisfied: google-auth-oauthlib<2,>=0.5 in c:\\users\\realb\\anaconda3\\lib\\site-packages (from tensorboard<2.16,>=2.15->tensorflow-intel==2.15.0->tensorflow) (1.1.0)\n",
      "Requirement already satisfied: markdown>=2.6.8 in c:\\users\\realb\\anaconda3\\lib\\site-packages (from tensorboard<2.16,>=2.15->tensorflow-intel==2.15.0->tensorflow) (3.4.1)\n",
      "Requirement already satisfied: requests<3,>=2.21.0 in c:\\users\\realb\\anaconda3\\lib\\site-packages (from tensorboard<2.16,>=2.15->tensorflow-intel==2.15.0->tensorflow) (2.31.0)\n",
      "Requirement already satisfied: tensorboard-data-server<0.8.0,>=0.7.0 in c:\\users\\realb\\anaconda3\\lib\\site-packages (from tensorboard<2.16,>=2.15->tensorflow-intel==2.15.0->tensorflow) (0.7.2)\n",
      "Requirement already satisfied: werkzeug>=1.0.1 in c:\\users\\realb\\anaconda3\\lib\\site-packages (from tensorboard<2.16,>=2.15->tensorflow-intel==2.15.0->tensorflow) (2.2.3)\n",
      "Requirement already satisfied: cachetools<6.0,>=2.0.0 in c:\\users\\realb\\anaconda3\\lib\\site-packages (from google-auth<3,>=1.6.3->tensorboard<2.16,>=2.15->tensorflow-intel==2.15.0->tensorflow) (5.3.2)\n",
      "Requirement already satisfied: pyasn1-modules>=0.2.1 in c:\\users\\realb\\anaconda3\\lib\\site-packages (from google-auth<3,>=1.6.3->tensorboard<2.16,>=2.15->tensorflow-intel==2.15.0->tensorflow) (0.2.8)\n",
      "Requirement already satisfied: rsa<5,>=3.1.4 in c:\\users\\realb\\anaconda3\\lib\\site-packages (from google-auth<3,>=1.6.3->tensorboard<2.16,>=2.15->tensorflow-intel==2.15.0->tensorflow) (4.9)\n",
      "Requirement already satisfied: requests-oauthlib>=0.7.0 in c:\\users\\realb\\anaconda3\\lib\\site-packages (from google-auth-oauthlib<2,>=0.5->tensorboard<2.16,>=2.15->tensorflow-intel==2.15.0->tensorflow) (1.3.1)\n",
      "Requirement already satisfied: charset-normalizer<4,>=2 in c:\\users\\realb\\anaconda3\\lib\\site-packages (from requests<3,>=2.21.0->tensorboard<2.16,>=2.15->tensorflow-intel==2.15.0->tensorflow) (2.0.4)\n",
      "Requirement already satisfied: idna<4,>=2.5 in c:\\users\\realb\\anaconda3\\lib\\site-packages (from requests<3,>=2.21.0->tensorboard<2.16,>=2.15->tensorflow-intel==2.15.0->tensorflow) (3.4)\n",
      "Requirement already satisfied: urllib3<3,>=1.21.1 in c:\\users\\realb\\anaconda3\\lib\\site-packages (from requests<3,>=2.21.0->tensorboard<2.16,>=2.15->tensorflow-intel==2.15.0->tensorflow) (1.26.16)\n",
      "Requirement already satisfied: certifi>=2017.4.17 in c:\\users\\realb\\anaconda3\\lib\\site-packages (from requests<3,>=2.21.0->tensorboard<2.16,>=2.15->tensorflow-intel==2.15.0->tensorflow) (2023.7.22)\n",
      "Requirement already satisfied: MarkupSafe>=2.1.1 in c:\\users\\realb\\anaconda3\\lib\\site-packages (from werkzeug>=1.0.1->tensorboard<2.16,>=2.15->tensorflow-intel==2.15.0->tensorflow) (2.1.1)\n",
      "Requirement already satisfied: pyasn1<0.5.0,>=0.4.6 in c:\\users\\realb\\anaconda3\\lib\\site-packages (from pyasn1-modules>=0.2.1->google-auth<3,>=1.6.3->tensorboard<2.16,>=2.15->tensorflow-intel==2.15.0->tensorflow) (0.4.8)\n",
      "Requirement already satisfied: oauthlib>=3.0.0 in c:\\users\\realb\\anaconda3\\lib\\site-packages (from requests-oauthlib>=0.7.0->google-auth-oauthlib<2,>=0.5->tensorboard<2.16,>=2.15->tensorflow-intel==2.15.0->tensorflow) (3.2.2)\n"
     ]
    }
   ],
   "source": [
    "# Tensorflow kütüpanesini kullanaçağım ve bu yüzden bunu isntall ediyorum jupiter başka ide için başına '!' koymayınız.\n",
    "\n",
    "!pip install tensorflow"
   ]
  },
  {
   "cell_type": "raw",
   "id": "3a32ddd0",
   "metadata": {},
   "source": [
    "Modelin kurlması ve eğitim işleminin yapılması"
   ]
  },
  {
   "cell_type": "code",
   "execution_count": 13,
   "id": "a3118066",
   "metadata": {
    "scrolled": true
   },
   "outputs": [
    {
     "name": "stdout",
     "output_type": "stream",
     "text": [
      "Epoch 1/20\n",
      "5848/5848 - 6s - loss: 0.6011 - accuracy: 0.6903 - val_loss: 0.5736 - val_accuracy: 0.7104 - 6s/epoch - 1ms/step\n",
      "Epoch 2/20\n",
      "5848/5848 - 6s - loss: 0.5769 - accuracy: 0.7103 - val_loss: 0.5619 - val_accuracy: 0.7147 - 6s/epoch - 946us/step\n",
      "Epoch 3/20\n",
      "5848/5848 - 5s - loss: 0.5675 - accuracy: 0.7147 - val_loss: 0.5537 - val_accuracy: 0.7166 - 5s/epoch - 916us/step\n",
      "Epoch 4/20\n",
      "5848/5848 - 5s - loss: 0.5628 - accuracy: 0.7177 - val_loss: 0.5518 - val_accuracy: 0.7196 - 5s/epoch - 919us/step\n",
      "Epoch 5/20\n",
      "5848/5848 - 5s - loss: 0.5594 - accuracy: 0.7188 - val_loss: 0.5483 - val_accuracy: 0.7216 - 5s/epoch - 928us/step\n",
      "Epoch 6/20\n",
      "5848/5848 - 5s - loss: 0.5568 - accuracy: 0.7199 - val_loss: 0.5473 - val_accuracy: 0.7247 - 5s/epoch - 920us/step\n",
      "Epoch 7/20\n",
      "5848/5848 - 5s - loss: 0.5543 - accuracy: 0.7213 - val_loss: 0.5422 - val_accuracy: 0.7239 - 5s/epoch - 917us/step\n",
      "Epoch 8/20\n",
      "5848/5848 - 5s - loss: 0.5528 - accuracy: 0.7217 - val_loss: 0.5392 - val_accuracy: 0.7251 - 5s/epoch - 926us/step\n",
      "Epoch 9/20\n",
      "5848/5848 - 5s - loss: 0.5515 - accuracy: 0.7215 - val_loss: 0.5390 - val_accuracy: 0.7273 - 5s/epoch - 919us/step\n",
      "Epoch 10/20\n",
      "5848/5848 - 5s - loss: 0.5502 - accuracy: 0.7219 - val_loss: 0.5384 - val_accuracy: 0.7265 - 5s/epoch - 919us/step\n",
      "Epoch 11/20\n",
      "5848/5848 - 5s - loss: 0.5489 - accuracy: 0.7220 - val_loss: 0.5343 - val_accuracy: 0.7271 - 5s/epoch - 925us/step\n",
      "Epoch 12/20\n",
      "5848/5848 - 5s - loss: 0.5477 - accuracy: 0.7219 - val_loss: 0.5342 - val_accuracy: 0.7259 - 5s/epoch - 916us/step\n",
      "Epoch 13/20\n",
      "5848/5848 - 5s - loss: 0.5467 - accuracy: 0.7227 - val_loss: 0.5327 - val_accuracy: 0.7238 - 5s/epoch - 924us/step\n",
      "Epoch 14/20\n",
      "5848/5848 - 5s - loss: 0.5459 - accuracy: 0.7229 - val_loss: 0.5337 - val_accuracy: 0.7261 - 5s/epoch - 930us/step\n",
      "Epoch 15/20\n",
      "5848/5848 - 5s - loss: 0.5447 - accuracy: 0.7236 - val_loss: 0.5304 - val_accuracy: 0.7269 - 5s/epoch - 920us/step\n",
      "Epoch 16/20\n",
      "5848/5848 - 5s - loss: 0.5443 - accuracy: 0.7235 - val_loss: 0.5315 - val_accuracy: 0.7265 - 5s/epoch - 916us/step\n",
      "Epoch 17/20\n",
      "5848/5848 - 5s - loss: 0.5447 - accuracy: 0.7231 - val_loss: 0.5285 - val_accuracy: 0.7270 - 5s/epoch - 939us/step\n",
      "Epoch 18/20\n",
      "5848/5848 - 5s - loss: 0.5434 - accuracy: 0.7235 - val_loss: 0.5251 - val_accuracy: 0.7270 - 5s/epoch - 925us/step\n",
      "Epoch 19/20\n",
      "5848/5848 - 6s - loss: 0.5431 - accuracy: 0.7242 - val_loss: 0.5289 - val_accuracy: 0.7272 - 6s/epoch - 952us/step\n",
      "Epoch 20/20\n",
      "5848/5848 - 6s - loss: 0.5422 - accuracy: 0.7238 - val_loss: 0.5280 - val_accuracy: 0.7276 - 6s/epoch - 943us/step\n",
      "1828/1828 [==============================] - 1s 645us/step - loss: 0.5254 - accuracy: 0.7295\n",
      "Test Doğruluğu: 0.7295\n"
     ]
    }
   ],
   "source": [
    "import pandas as pd\n",
    "from sklearn.model_selection import train_test_split\n",
    "from sklearn.preprocessing import LabelEncoder, StandardScaler\n",
    "import numpy as np\n",
    "import tensorflow as tf\n",
    "from tensorflow.keras.models import Sequential\n",
    "from tensorflow.keras.layers import Dense, Dropout\n",
    "\n",
    "# Veriyi yükleme\n",
    "file_path = (r'C:\\Users\\realb\\Desktop\\Ruh sağlığı tahmin modeli\\Mental Health Dataset.csv')\n",
    "\n",
    "# file_path = 'Ruh sağlığı tahmin modeli/Mental Health Dataset.csv'\n",
    "data = pd.read_csv(file_path)\n",
    "\n",
    "# Timestamp sütununu düşürme\n",
    "data = data.drop(columns=['Timestamp'])\n",
    "\n",
    "# Eksik değerlerin en sık görülen değerle doldurulması\n",
    "data = data.apply(lambda x: x.fillna(x.mode()[0]))\n",
    "\n",
    "# Kategorik değişkenlerin etiketlenmesi\n",
    "label_encoders = {}\n",
    "for column in data.columns:\n",
    "    le = LabelEncoder()\n",
    "    data[column] = le.fit_transform(data[column])\n",
    "    label_encoders[column] = le\n",
    "\n",
    "# Özelliklerin ve hedef değişkenin ayrılması\n",
    "X = data.drop(columns=['treatment'])\n",
    "y = data['treatment']\n",
    "\n",
    "# Verinin eğitim ve test setlerine bölünmesi\n",
    "X_train, X_test, y_train, y_test = train_test_split(X, y, test_size=0.2, random_state=42)\n",
    "\n",
    "# Özelliklerin standartlaştırılması\n",
    "scaler = StandardScaler()\n",
    "X_train = scaler.fit_transform(X_train)\n",
    "X_test = scaler.transform(X_test)\n",
    "\n",
    "# Yapay sinir ağı modelinin tanımlanması\n",
    "model = Sequential([\n",
    "    Dense(64, input_dim=X_train.shape[1], activation='relu'),\n",
    "    Dropout(0.5),\n",
    "    Dense(32, activation='relu'),\n",
    "    Dropout(0.5),\n",
    "    Dense(1, activation='sigmoid')\n",
    "])\n",
    "\n",
    "# Modelin derlenmesi\n",
    "model.compile(optimizer='adam', loss='binary_crossentropy', metrics=['accuracy'])\n",
    "\n",
    "# Modelin eğitilmesi\n",
    "history = model.fit(X_train, y_train, epochs=20, batch_size=32, validation_split=0.2, verbose=2)\n",
    "\n",
    "# Modelin test seti üzerinde değerlendirilmesi\n",
    "loss, accuracy = model.evaluate(X_test, y_test)\n",
    "print(f'Test Doğruluğu: {accuracy:.4f}')"
   ]
  },
  {
   "cell_type": "raw",
   "id": "6ff30ca2",
   "metadata": {},
   "source": [
    "Eğitilen modelin ağırlık dosyasının kayıt edilmesi."
   ]
  },
  {
   "cell_type": "code",
   "execution_count": 14,
   "id": "d1de4b42",
   "metadata": {
    "scrolled": true
   },
   "outputs": [
    {
     "name": "stderr",
     "output_type": "stream",
     "text": [
      "C:\\Users\\realb\\anaconda3\\Lib\\site-packages\\keras\\src\\engine\\training.py:3103: UserWarning: You are saving your model as an HDF5 file via `model.save()`. This file format is considered legacy. We recommend using instead the native Keras format, e.g. `model.save('my_model.keras')`.\n",
      "  saving_api.save_model(\n"
     ]
    }
   ],
   "source": [
    "# Modeli kaydetme\n",
    "model.save('mental_health_model.h5')\n",
    "\n",
    "# Scaler'ı kaydetme\n",
    "import joblib\n",
    "joblib.dump(scaler, 'scaler.pkl')\n",
    "\n",
    "# Label Encoders'ı kaydetme\n",
    "import pickle\n",
    "with open('label_encoders.pkl', 'wb') as f:\n",
    "    pickle.dump(label_encoders, f)\n"
   ]
  },
  {
   "cell_type": "raw",
   "id": "749dbe02",
   "metadata": {},
   "source": [
    "Çıkarılan ağırlık dosyası üzerinden tahmin yaptırma modole"
   ]
  },
  {
   "cell_type": "code",
   "execution_count": 15,
   "id": "1e28d1dd",
   "metadata": {},
   "outputs": [
    {
     "name": "stdout",
     "output_type": "stream",
     "text": [
      "1/1 [==============================] - 0s 37ms/step\n",
      "Tahmin: 0.2991\n"
     ]
    }
   ],
   "source": [
    "import pandas as pd\n",
    "import joblib\n",
    "import pickle\n",
    "from tensorflow.keras.models import load_model\n",
    "\n",
    "# Modeli yükleme\n",
    "model = load_model('mental_health_model.h5')\n",
    "\n",
    "# Scaler'ı yükleme\n",
    "scaler = joblib.load('scaler.pkl')\n",
    "\n",
    "# Label Encoders'ı yükleme\n",
    "with open('label_encoders.pkl', 'rb') as f:\n",
    "    label_encoders = pickle.load(f)\n",
    "\n",
    "# Yeni veri üzerinde tahmin yapılması\n",
    "def predict_new_data(new_data):\n",
    "    new_data_transformed = new_data.copy()\n",
    "    for column in new_data.columns:\n",
    "        le = label_encoders[column]\n",
    "        unique_labels = list(le.classes_)\n",
    "        # Yeni verideki etiketlerin eğitim setinde kullanılan etiketlere uyarlanması\n",
    "        for val in new_data[column].unique():\n",
    "            if val not in unique_labels:\n",
    "                unique_labels.append(val)\n",
    "        le.classes_ = np.array(unique_labels)\n",
    "        new_data_transformed[column] = le.transform(new_data[column])\n",
    "    new_data_transformed = scaler.transform(new_data_transformed)\n",
    "    \n",
    "    # Tahmin yapma\n",
    "    predictions = model.predict(new_data_transformed)\n",
    "    return predictions\n",
    "\n",
    "# Örnek yeni veri (gerçek verilerinizi buraya koyabilirsiniz)\n",
    "new_data = pd.DataFrame({\n",
    "    'Gender': ['Male'],\n",
    "    'Country': ['United States'],\n",
    "    'Occupation': ['Corporate'],\n",
    "    'self_employed': ['No'],\n",
    "    'family_history': ['No'],\n",
    "    'Days_Indoors': ['1-14 days'],\n",
    "    'Growing_Stress': ['Yes'],\n",
    "    'Changes_Habits': ['No'],\n",
    "    'Mental_Health_History': ['No'],\n",
    "    'Mood_Swings': ['No'],\n",
    "    'Coping_Struggles': ['No'],\n",
    "    'Work_Interest': ['No'],\n",
    "    'Social_Weakness': ['No'],\n",
    "    'mental_health_interview': ['No'],\n",
    "    'care_options': ['No']\n",
    "})\n",
    "\n",
    "# Tahmin yapma\n",
    "predictions = predict_new_data(new_data)\n",
    "print(f'Tahmin: {predictions[0][0]:.4f}')\n"
   ]
  },
  {
   "cell_type": "code",
   "execution_count": null,
   "id": "44ec796d",
   "metadata": {},
   "outputs": [],
   "source": [
    "Tahmini başka bir durumudan yaptırıp tahmin sonucunu sınıflandırma bazlı işleme göre yaptırma."
   ]
  },
  {
   "cell_type": "code",
   "execution_count": 16,
   "id": "eead75b6",
   "metadata": {},
   "outputs": [
    {
     "name": "stdout",
     "output_type": "stream",
     "text": [
      "WARNING:tensorflow:5 out of the last 5 calls to <function Model.make_predict_function.<locals>.predict_function at 0x00000208BFB52AC0> triggered tf.function retracing. Tracing is expensive and the excessive number of tracings could be due to (1) creating @tf.function repeatedly in a loop, (2) passing tensors with different shapes, (3) passing Python objects instead of tensors. For (1), please define your @tf.function outside of the loop. For (2), @tf.function has reduce_retracing=True option that can avoid unnecessary retracing. For (3), please refer to https://www.tensorflow.org/guide/function#controlling_retracing and https://www.tensorflow.org/api_docs/python/tf/function for  more details.\n",
      "1/1 [==============================] - 0s 38ms/step\n",
      "   Gender        Country Occupation self_employed family_history Days_Indoors  \\\n",
      "0    Male  United States  Corporate            No             No    1-14 days   \n",
      "1  Female         Canada    Student           Yes            Yes   15-30 days   \n",
      "\n",
      "  Growing_Stress Changes_Habits Mental_Health_History Mood_Swings  \\\n",
      "0            Yes             No                    No          No   \n",
      "1             No            Yes                   Yes         Yes   \n",
      "\n",
      "  Coping_Struggles Work_Interest Social_Weakness mental_health_interview  \\\n",
      "0               No            No              No                      No   \n",
      "1              Yes           Yes             Yes                     Yes   \n",
      "\n",
      "  care_options True Values Predictions  \n",
      "0           No          No          No  \n",
      "1          Yes         Yes         Yes  \n"
     ]
    }
   ],
   "source": [
    "import pandas as pd\n",
    "import joblib\n",
    "import pickle\n",
    "from tensorflow.keras.models import load_model\n",
    "\n",
    "# Modeli yükleme\n",
    "model = load_model('mental_health_model.h5')\n",
    "\n",
    "# Scaler'ı yükleme\n",
    "scaler = joblib.load('scaler.pkl')\n",
    "\n",
    "# Label Encoders'ı yükleme\n",
    "with open('label_encoders.pkl', 'rb') as f:\n",
    "    label_encoders = pickle.load(f)\n",
    "\n",
    "# Yeni veri üzerinde tahmin yapılması\n",
    "def predict_new_data(new_data):\n",
    "    new_data_transformed = new_data.copy()\n",
    "    for column in new_data.columns:\n",
    "        le = label_encoders[column]\n",
    "        unique_labels = list(le.classes_)\n",
    "        # Yeni verideki etiketlerin eğitim setinde kullanılan etiketlere uyarlanması\n",
    "        for val in new_data[column].unique():\n",
    "            if val not in unique_labels:\n",
    "                unique_labels.append(val)\n",
    "        le.classes_ = np.array(unique_labels)\n",
    "        new_data_transformed[column] = le.transform(new_data[column])\n",
    "    new_data_transformed = scaler.transform(new_data_transformed)\n",
    "    \n",
    "    # Tahmin yapma\n",
    "    predictions = model.predict(new_data_transformed)\n",
    "    return predictions\n",
    "\n",
    "# Örnek yeni veri\n",
    "new_data = pd.DataFrame({\n",
    "    'Gender': ['Male', 'Female'],\n",
    "    'Country': ['United States', 'Canada'],\n",
    "    'Occupation': ['Corporate', 'Student'],\n",
    "    'self_employed': ['No', 'Yes'],\n",
    "    'family_history': ['No', 'Yes'],\n",
    "    'Days_Indoors': ['1-14 days', '15-30 days'],\n",
    "    'Growing_Stress': ['Yes', 'No'],\n",
    "    'Changes_Habits': ['No', 'Yes'],\n",
    "    'Mental_Health_History': ['No', 'Yes'],\n",
    "    'Mood_Swings': ['No', 'Yes'],\n",
    "    'Coping_Struggles': ['No', 'Yes'],\n",
    "    'Work_Interest': ['No', 'Yes'],\n",
    "    'Social_Weakness': ['No', 'Yes'],\n",
    "    'mental_health_interview': ['No', 'Yes'],\n",
    "    'care_options': ['No', 'Yes']\n",
    "})\n",
    "\n",
    "# Tahmin yapma\n",
    "predictions = predict_new_data(new_data)\n",
    "\n",
    "# Gerçek sonuçları (ground truth) ekleme\n",
    "# Burada gerçek sonuçların ne olduğunu bilmelisiniz\n",
    "# Örneğin:\n",
    "true_values = ['No', 'Yes']\n",
    "\n",
    "# Tahminleri ve gerçek sonuçları bir DataFrame'e kaydetme\n",
    "results = new_data.copy()\n",
    "results['True Values'] = true_values\n",
    "results['Predictions'] = ['Yes' if x >= 0.5 else 'No' for x in predictions]\n",
    "\n",
    "# Tahmin sonuçlarını kaydetme\n",
    "results.to_csv('predictions.csv', index=False)\n",
    "\n",
    "print(results)"
   ]
  },
  {
   "cell_type": "code",
   "execution_count": 17,
   "id": "23df5f53",
   "metadata": {},
   "outputs": [
    {
     "name": "stdout",
     "output_type": "stream",
     "text": [
      "Test Doğruluğu: 1.0000\n",
      "              precision    recall  f1-score   support\n",
      "\n",
      "          No       1.00      1.00      1.00         1\n",
      "         Yes       1.00      1.00      1.00         1\n",
      "\n",
      "    accuracy                           1.00         2\n",
      "   macro avg       1.00      1.00      1.00         2\n",
      "weighted avg       1.00      1.00      1.00         2\n",
      "\n"
     ]
    },
    {
     "data": {
      "image/png": "[encoded data removed]",
      "text/plain": [
       "<Figure size 1000x600 with 2 Axes>"
      ]
     },
     "metadata": {},
     "output_type": "display_data"
    }
   ],
   "source": [
    "import pandas as pd\n",
    "import matplotlib.pyplot as plt\n",
    "import seaborn as sns\n",
    "from sklearn.metrics import confusion_matrix, accuracy_score, classification_report\n",
    "\n",
    "# Tahmin sonuçlarını yükleme\n",
    "results = pd.read_csv('predictions.csv')\n",
    "\n",
    "# Doğruluk hesaplama\n",
    "accuracy = accuracy_score(results['True Values'], results['Predictions'])\n",
    "print(f'Test Doğruluğu: {accuracy:.4f}')\n",
    "\n",
    "# Sınıflandırma raporu\n",
    "report = classification_report(results['True Values'], results['Predictions'])\n",
    "print(report)\n",
    "\n",
    "# Karışıklık matrisi\n",
    "conf_matrix = confusion_matrix(results['True Values'], results['Predictions'])\n",
    "\n",
    "# Karışıklık matrisini görselleştirme\n",
    "plt.figure(figsize=(10, 6))\n",
    "sns.heatmap(conf_matrix, annot=True, fmt='d', cmap='Blues', xticklabels=['No', 'Yes'], yticklabels=['No', 'Yes'])\n",
    "plt.title('Karışıklık Matrisi')\n",
    "plt.xlabel('Tahminler')\n",
    "plt.ylabel('Gerçek Değerler')\n",
    "plt.show()\n"
   ]
  }
 ],
 "metadata": {
  "kernelspec": {
   "display_name": "Python 3 (ipykernel)",
   "language": "python",
   "name": "python3"
  },
  "language_info": {
   "codemirror_mode": {
    "name": "ipython",
    "version": 3
   },
   "file_extension": ".py",
   "mimetype": "text/x-python",
   "name": "python",
   "nbconvert_exporter": "python",
   "pygments_lexer": "ipython3",
   "version": "3.11.5"
  }
 },
 "nbformat": 4,
 "nbformat_minor": 5
}
